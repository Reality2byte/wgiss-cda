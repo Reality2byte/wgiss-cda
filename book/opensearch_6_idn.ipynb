{
 "cells": [
  {
   "attachments": {},
   "cell_type": "markdown",
   "id": "d99fea47",
   "metadata": {},
   "source": [
    "# Use Case - Collection Search (IDN)\n",
    "\n",
    "This chapter provides a comprehensive and detailed process about how to implement a WGISS\n",
    "OpenSearch client, which includes how to retrieve the OSDD for the collection of interest, and\n",
    "how to build an OpenSearch request. "
   ]
  },
  {
   "cell_type": "code",
   "execution_count": 54,
   "id": "90481aae",
   "metadata": {
    "tags": [
     "remove-cell"
    ]
   },
   "outputs": [],
   "source": [
    "import re\n",
    "import json, requests, xml\n",
    "# import pandas as pd\n",
    "# import ipywidgets as widgets\n",
    "\n",
    "from xml.dom import minidom\n",
    "# from IPython.display import Image\n",
    "from xml.etree import ElementTree\n",
    "# from IPython.display import HTML\n",
    "from IPython.display import Markdown as md"
   ]
  },
  {
   "cell_type": "code",
   "execution_count": 55,
   "id": "1942bb9c",
   "metadata": {
    "tags": [
     "remove-cell"
    ]
   },
   "outputs": [],
   "source": [
    "def get_api_request(template, os_querystring):\n",
    "  # Fill (URL) template with OpenSearch parameter values provided in os_querystring and return as short HTTP URL without empty parameters.\n",
    "  \n",
    "  # print(\"URL template: \" + template)\n",
    "  \n",
    "  # Limitation: the OSDD may use a default namespace for OpenSearch instead of using \"os\".\n",
    "  # We make a simple correction here allowing to use OpenSearch queryables without namespace in requests.\n",
    "  # A more generic solution to obtain namespaces from the OSDD and compare them with user supplied namespaces is future work.\n",
    "  \n",
    "  OS_NAMESPACE = 'os:'\n",
    "      \n",
    "  # perform substitutions in template\n",
    "  for p in os_querystring:\n",
    "      # print(\"  .. replacing:\", p, \"by\", os_querystring[p])\n",
    "      # template = re.sub('\\{'+p+'.*?\\}', os_querystring[p] , template)\n",
    "      result = re.subn('\\{'+p+'.*?\\}', os_querystring[p] , template)\n",
    "      n = result[1]\n",
    "      template = result[0]\n",
    "      if (n<1):\n",
    "          if (':' in p):\n",
    "                print(\"ERROR: parameter \" + p + \" not found in template.\")\n",
    "          else:\n",
    "                # try with explicit namespace\n",
    "                result = re.subn('\\{'+OS_NAMESPACE+p+'.*?\\}', os_querystring[p] , template)\n",
    "                n = result[1]\n",
    "                template = result[0]\n",
    "                if (n<1):\n",
    "                    print(\"ERROR: parameter \" + OS_NAMESPACE+p + \" not found in template.\")   \n",
    "      \n",
    "      # print(\"- intermediate new template:\" + template)\n",
    "      \n",
    "  # remove empty search parameters\n",
    "  template=re.sub('&?[a-zA-Z]*=\\{.*?\\}', '' , template)\n",
    "  \n",
    "  # remove remaining empty search parameters which did not have an HTTP query parameter attached (e.g. /{time:end}).\n",
    "  template=re.sub('.?\\{.*?\\}', '' , template)\n",
    "  \n",
    "  # print(\"API request: \" + template)\n",
    "            \n",
    "  return (template)"
   ]
  },
  {
   "cell_type": "markdown",
   "id": "10402a9a",
   "metadata": {},
   "source": [
    "## IDN Systems\n"
   ]
  },
  {
   "cell_type": "markdown",
   "id": "0dda4f70",
   "metadata": {},
   "source": [
    "The IDN, CMR OpenSearch (for IDN), and the GCMD’s Keyword Management Service (KMS)\n",
    "only have operational systems which end-users can access.\n",
    "\n",
    "- IDN site is available to all users.  Location: https://idn.ceos.org/\n",
    "- OpenSearch API for IDN (via CMR). Production instance is available to all users.  Location: https://cmr.earthdata.nasa.gov/opensearch/\n",
    "- KMS - production instance is available to all users.  Location: https://gcmd.earthdata.nasa.gov/kms/capabilities?format=html\n",
    "\n",
    "The IDN site search interface and the CMR OpenSearch production instances will provide access to all collections which have been registered in the IDN. The KMS production instance will provide access to all approved GCMD keywords registered by IDN providers."
   ]
  },
  {
   "cell_type": "markdown",
   "id": "766f19de",
   "metadata": {},
   "source": [
    "## Retrieve Collections via IDN OpenSearch\n",
    "\n",
    "CEOS OpenSearch supports searching for collections through the IDN. Searching for granules in a specific collection is supported at the data partners via the Granule Gateways (see chapter\n",
    "“CWIC” and chapter “FedEO”). It executes a collection or inventory search, as appropriate, and returns the matching results.  In order to create a valid request, clients have to obtain the IDN OpenSearch OSDD and fill request\n",
    "parameters with proper values."
   ]
  },
  {
   "cell_type": "markdown",
   "id": "f40ba8b5",
   "metadata": {},
   "source": [
    "**Step 1**  \n",
    ">  Obtain the IDN OpenSearch OSDD to formulate a valid IDN OpenSearch request."
   ]
  },
  {
   "cell_type": "code",
   "execution_count": 56,
   "id": "75bcedb3",
   "metadata": {},
   "outputs": [],
   "source": [
    "URL_OSDD = \"https://cmr.earthdata.nasa.gov/opensearch/collections/descriptor_document.xml?clientId=ceosOpenSearchDoc\""
   ]
  },
  {
   "cell_type": "markdown",
   "id": "43f00652",
   "metadata": {},
   "source": [
    "The template of the OpenSearch request is available under the `<Url>` element corresponding to the media type (Atom) in the OSDD and is included below."
   ]
  },
  {
   "cell_type": "code",
   "execution_count": 57,
   "id": "7186f6c8",
   "metadata": {
    "tags": [
     "output_scroll",
     "remove-input"
    ]
   },
   "outputs": [
    {
     "data": {
      "text/markdown": [
       "```xml\n",
       "<?xml version=\"1.0\" ?><os:OpenSearchDescription xmlns:atom=\"http://www.w3.org/2005/Atom\" xmlns:echo=\"https://cmr.earthdata.nasa.gov/search/site/docs/search/api.html#atom\" xmlns:eo=\"http://a9.com/-/opensearch/extensions/eo/1.0/\" xmlns:geo=\"http://a9.com/-/opensearch/extensions/geo/1.0/\" xmlns:os=\"http://a9.com/-/spec/opensearch/1.1/\" xmlns:params=\"http://a9.com/-/spec/opensearch/extensions/parameters/1.0/\" xmlns:referrer=\"http://www.opensearch.org/Specifications/OpenSearch/Extensions/Referrer/1.0\" xmlns:time=\"http://a9.com/-/opensearch/extensions/time/1.0/\">  \n",
       "    <os:ShortName>CMR Collections</os:ShortName>  \n",
       "    <os:Description>NASA CMR Collection search using geo, time and parameter extensions</os:Description>  \n",
       "    <os:Contact>echodev@echo.nasa.gov</os:Contact>  \n",
       "    <os:Url params:method=\"GET\" rel=\"collection\" template=\"https://cmr.earthdata.nasa.gov/opensearch/collections.atom?keyword={os:searchTerms?}&amp;instrument={echo:instrument?}&amp;satellite={eo:platform?}&amp;boundingBox={geo:box?}&amp;lat={geo:lat?}&amp;lon={geo:lon?}&amp;radius={geo:radius?}&amp;geometry={geo:geometry?}&amp;placeName={geo:name?}&amp;startTime={time:start?}&amp;endTime={time:end?}&amp;cursor={os:startPage?}&amp;numberOfResults={os:count?}&amp;offset={os:startIndex?}&amp;uid={geo:uid?}&amp;hasGranules={echo:hasGranules?}&amp;isCwic={echo:isCwic?}&amp;isGeoss={echo:isGeoss?}&amp;isCeos={echo:isCeos?}&amp;isEosdis={echo:isEosdis?}&amp;isFedeo={echo:isFedeo?}&amp;provider={echo:provider?}&amp;clientId=ceosOpenSearchDoc\" type=\"application/atom+xml\">    \n",
       "        <params:Parameter minimum=\"0\" name=\"keyword\" title=\"Inventory with terms expressed by these search terms\" uiDisplay=\"Search terms\" value=\"{os:searchTerms}\">      \n",
       "            <atom:link href=\"http://www.elasticsearch.org/guide/en/elasticsearch/reference/current/query-dsl-query-string-query.html\" rel=\"profile\" title=\"This parameter follows the elastic search free text search implementations\"/>      \n",
       "        </params:Parameter>    \n",
       "        <params:Parameter minimum=\"0\" name=\"instrument\" title=\"Inventory associated with a satellite instrument expressed by this short name\" uiDisplay=\"Instrument\" value=\"{echo:instrument}\"/>    \n",
       "        <params:Parameter minimum=\"0\" name=\"satellite\" title=\"Inventory associated with a Satellite/platform expressed by this short name\" uiDisplay=\"Satellite\" value=\"{eo:platform}\"/>    \n",
       "        <params:Parameter minimum=\"0\" name=\"boundingBox\" title=\"Inventory with a spatial extent overlapping this bounding box\" uiDisplay=\"Bounding box\" value=\"{geo:box}\"/>    \n",
       "        <params:Parameter maxInclusive=\"90.0\" minInclusive=\"-90.0\" minimum=\"0\" name=\"lat\" title=\"Inventory with latitude in decimal degrees, must be used together with lon and radius\" uiDisplay=\"Latitude\" value=\"{geo:lat}\"/>    \n",
       "        <params:Parameter maxInclusive=\"180.0\" minInclusive=\"-180.0\" minimum=\"0\" name=\"lon\" title=\"Inventory with longitude in decimal degrees, must be used together with lat and radius\" uiDisplay=\"Longitude\" value=\"{geo:lon}\"/>    \n",
       "        <params:Parameter maxInclusive=\"6000000\" minInclusive=\"10\" minimum=\"0\" name=\"radius\" title=\"Inventory with the search radius in meters, must be used together with lat and lon\" uiDisplay=\"Radius\" value=\"{geo:radius}\"/>    \n",
       "        <params:Parameter minimum=\"0\" name=\"geometry\" title=\"Inventory with a spatial extent overlapping this geometry\" uiDisplay=\"Geometry\" value=\"{geo:geometry}\">      \n",
       "            <atom:link href=\"http://www.opengis.net/wkt/LINESTRING\" rel=\"profile\" title=\"This service accepts WKT LineStrings\"/>      \n",
       "            <atom:link href=\"http://www.opengis.net/wkt/POINT\" rel=\"profile\" title=\"This service accepts WKT Points\"/>      \n",
       "            <atom:link href=\"http://www.opengis.net/wkt/POLYGON\" rel=\"profile\" title=\"This service accepts WKT Polygons\"/>      \n",
       "        </params:Parameter>    \n",
       "        <params:Parameter minimum=\"0\" name=\"placeName\" title=\"Inventory with a spatial location described by this name\" uiDisplay=\"Place name\" value=\"{geo:name}\"/>    \n",
       "        <params:Parameter minimum=\"0\" name=\"startTime\" title=\"Inventory with a temporal extent containing this start time\" uiDisplay=\"Start time\" value=\"{time:start}\"/>    \n",
       "        <params:Parameter minimum=\"0\" name=\"endTime\" title=\"Inventory with a temporal extent containing this end time\" uiDisplay=\"End time\" value=\"{time:end}\"/>    \n",
       "        <params:Parameter minimum=\"0\" name=\"cursor\" title=\"Start page for the search result\" uiDisplay=\"Start page\" value=\"{os:startPage}\"/>    \n",
       "        <params:Parameter maxInclusive=\"2000\" minimum=\"0\" name=\"numberOfResults\" title=\"Maximum number of records in the search result\" uiDisplay=\"Number of results\" value=\"{os:count}\"/>    \n",
       "        <params:Parameter minimum=\"0\" name=\"offset\" title=\"0-based offset used to skip the specified number of results in the search result set\" uiDisplay=\"Start index\" value=\"{os:startIndex}\"/>    \n",
       "        <params:Parameter minimum=\"0\" name=\"uid\" title=\"Inventory associated with this unique ID\" uiDisplay=\"Unique identifier\" value=\"{geo:uid}\"/>    \n",
       "        <params:Parameter name=\"hasGranules\" title=\"Inventory with granules\" uiDisplay=\"Has granules\" value=\"{echo:hasGranules}\">      \n",
       "            <params:Option label=\"Yes\" value=\"true\"/>      \n",
       "            <params:Option label=\"No\" value=\"false\"/>      \n",
       "        </params:Parameter>    \n",
       "        <params:Parameter name=\"isCwic\" title=\"Inventory related to CWIC\" uiDisplay=\"CWIC collection\" value=\"{echo:isCwic}\">      \n",
       "            <params:Option label=\"Yes\" value=\"true\"/>      \n",
       "        </params:Parameter>    \n",
       "        <params:Parameter name=\"isGeoss\" title=\"Inventory related to GEOSS\" uiDisplay=\"GEOSS collection\" value=\"{echo:isGeoss}\">      \n",
       "            <params:Option label=\"Yes\" value=\"true\"/>      \n",
       "        </params:Parameter>    \n",
       "        <params:Parameter name=\"isCeos\" title=\"Inventory related to CEOS\" uiDisplay=\"CEOS collection\" value=\"{echo:isCeos}\">      \n",
       "            <params:Option label=\"Yes\" value=\"true\"/>      \n",
       "        </params:Parameter>    \n",
       "        <params:Parameter name=\"isEosdis\" title=\"Inventory related to EOSDIS\" uiDisplay=\"EOSDIS collection\" value=\"{echo:isEosdis}\">      \n",
       "            <params:Option label=\"Yes\" value=\"true\"/>      \n",
       "        </params:Parameter>    \n",
       "        <params:Parameter name=\"isFedeo\" title=\"Inventory related to FedEO\" uiDisplay=\"FedEO collection\" value=\"{echo:isFedeo}\">      \n",
       "            <params:Option label=\"Yes\" value=\"true\"/>      \n",
       "        </params:Parameter>    \n",
       "        <params:Parameter minimum=\"0\" name=\"provider\" title=\"Inventory associated with a provider\" uiDisplay=\"Provider\" value=\"{echo:provider}\"/>    \n",
       "        <params:Parameter minimum=\"0\" name=\"clientId\" title=\"Client identifier to be used for metrics\" uiDisplay=\"Client identifier\" value=\"{referrer:source}\"/>    \n",
       "    </os:Url>  \n",
       "    <os:Url params:method=\"GET\" rel=\"collection\" template=\"https://cmr.earthdata.nasa.gov/opensearch/collections.html?keyword={os:searchTerms?}&amp;instrument={echo:instrument?}&amp;satellite={eo:platform?}&amp;boundingBox={geo:box?}&amp;lat={geo:lat?}&amp;lon={geo:lon?}&amp;radius={geo:radius?}&amp;geometry={geo:geometry?}&amp;placeName={geo:name?}&amp;startTime={time:start?}&amp;endTime={time:end?}&amp;cursor={os:startPage?}&amp;numberOfResults={os:count?}&amp;offset={os:startIndex?}&amp;uid={geo:uid?}&amp;hasGranules={echo:hasGranules?}&amp;isCwic={echo:isCwic?}&amp;isGeoss={echo:isGeoss?}&amp;isCeos={echo:isCeos?}&amp;isEosdis={echo:isEosdis?}&amp;isFedeo={echo:isFedeo?}&amp;provider={echo:provider?}&amp;clientId=ceosOpenSearchDoc\" type=\"text/html\">    \n",
       "        <params:Parameter minimum=\"0\" name=\"keyword\" title=\"Inventory with terms expressed by these search terms\" uiDisplay=\"Search terms\" value=\"{os:searchTerms}\">      \n",
       "            <atom:link href=\"http://www.elasticsearch.org/guide/en/elasticsearch/reference/current/query-dsl-query-string-query.html\" rel=\"profile\" title=\"This parameter follows the elastic search free text search implementations\"/>      \n",
       "        </params:Parameter>    \n",
       "        <params:Parameter minimum=\"0\" name=\"instrument\" title=\"Inventory associated with a satellite instrument expressed by this short name\" uiDisplay=\"Instrument\" value=\"{echo:instrument}\"/>    \n",
       "        <params:Parameter minimum=\"0\" name=\"satellite\" title=\"Inventory associated with a Satellite/platform expressed by this short name\" uiDisplay=\"Satellite\" value=\"{eo:platform}\"/>    \n",
       "        <params:Parameter minimum=\"0\" name=\"boundingBox\" title=\"Inventory with a spatial extent overlapping this bounding box\" uiDisplay=\"Bounding box\" value=\"{geo:box}\"/>    \n",
       "        <params:Parameter maxInclusive=\"90.0\" minInclusive=\"-90.0\" minimum=\"0\" name=\"lat\" title=\"Inventory with latitude in decimal degrees, must be used together with lon and radius\" uiDisplay=\"Latitude\" value=\"{geo:lat}\"/>    \n",
       "        <params:Parameter maxInclusive=\"180.0\" minInclusive=\"-180.0\" minimum=\"0\" name=\"lon\" title=\"Inventory with longitude in decimal degrees, must be used together with lat and radius\" uiDisplay=\"Longitude\" value=\"{geo:lon}\"/>    \n",
       "        <params:Parameter maxInclusive=\"6000000\" minInclusive=\"10\" minimum=\"0\" name=\"radius\" title=\"Inventory with the search radius in meters, must be used together with lat and lon\" uiDisplay=\"Radius\" value=\"{geo:radius}\"/>    \n",
       "        <params:Parameter minimum=\"0\" name=\"geometry\" title=\"Inventory with a spatial extent overlapping this geometry\" uiDisplay=\"Geometry\" value=\"{geo:geometry}\">      \n",
       "            <atom:link href=\"http://www.opengis.net/wkt/LINESTRING\" rel=\"profile\" title=\"This service accepts WKT LineStrings\"/>      \n",
       "            <atom:link href=\"http://www.opengis.net/wkt/POINT\" rel=\"profile\" title=\"This service accepts WKT Points\"/>      \n",
       "            <atom:link href=\"http://www.opengis.net/wkt/POLYGON\" rel=\"profile\" title=\"This service accepts WKT Polygons\"/>      \n",
       "        </params:Parameter>    \n",
       "        <params:Parameter minimum=\"0\" name=\"placeName\" title=\"Inventory with a spatial location described by this name\" uiDisplay=\"Place name\" value=\"{geo:name}\"/>    \n",
       "        <params:Parameter minimum=\"0\" name=\"startTime\" title=\"Inventory with a temporal extent containing this start time\" uiDisplay=\"Start time\" value=\"{time:start}\"/>    \n",
       "        <params:Parameter minimum=\"0\" name=\"endTime\" title=\"Inventory with a temporal extent containing this end time\" uiDisplay=\"End time\" value=\"{time:end}\"/>    \n",
       "        <params:Parameter minimum=\"0\" name=\"cursor\" title=\"Start page for the search result\" uiDisplay=\"Start page\" value=\"{os:startPage}\"/>    \n",
       "        <params:Parameter maxInclusive=\"2000\" minimum=\"0\" name=\"numberOfResults\" title=\"Maximum number of records in the search result\" uiDisplay=\"Number of results\" value=\"{os:count}\"/>    \n",
       "        <params:Parameter minimum=\"0\" name=\"offset\" title=\"0-based offset used to skip the specified number of results in the search result set\" uiDisplay=\"Start index\" value=\"{os:startIndex}\"/>    \n",
       "        <params:Parameter minimum=\"0\" name=\"uid\" title=\"Inventory associated with this unique ID\" uiDisplay=\"Unique identifier\" value=\"{geo:uid}\"/>    \n",
       "        <params:Parameter name=\"hasGranules\" title=\"Inventory with granules\" uiDisplay=\"Has granules\" value=\"{echo:hasGranules}\">      \n",
       "            <params:Option label=\"Yes\" value=\"true\"/>      \n",
       "            <params:Option label=\"No\" value=\"false\"/>      \n",
       "        </params:Parameter>    \n",
       "        <params:Parameter name=\"isCwic\" title=\"Inventory related to CWIC\" uiDisplay=\"CWIC collection\" value=\"{echo:isCwic}\">      \n",
       "            <params:Option label=\"Yes\" value=\"true\"/>      \n",
       "        </params:Parameter>    \n",
       "        <params:Parameter name=\"isGeoss\" title=\"Inventory related to GEOSS\" uiDisplay=\"GEOSS collection\" value=\"{echo:isGeoss}\">      \n",
       "            <params:Option label=\"Yes\" value=\"true\"/>      \n",
       "        </params:Parameter>    \n",
       "        <params:Parameter name=\"isCeos\" title=\"Inventory related to CEOS\" uiDisplay=\"CEOS collection\" value=\"{echo:isCeos}\">      \n",
       "            <params:Option label=\"Yes\" value=\"true\"/>      \n",
       "        </params:Parameter>    \n",
       "        <params:Parameter name=\"isEosdis\" title=\"Inventory related to EOSDIS\" uiDisplay=\"EOSDIS collection\" value=\"{echo:isEosdis}\">      \n",
       "            <params:Option label=\"Yes\" value=\"true\"/>      \n",
       "        </params:Parameter>    \n",
       "        <params:Parameter name=\"isFedeo\" title=\"Inventory related to FedEO\" uiDisplay=\"FedEO collection\" value=\"{echo:isFedeo}\">      \n",
       "            <params:Option label=\"Yes\" value=\"true\"/>      \n",
       "        </params:Parameter>    \n",
       "        <params:Parameter minimum=\"0\" name=\"provider\" title=\"Inventory associated with a provider\" uiDisplay=\"Provider\" value=\"{echo:provider}\"/>    \n",
       "        <params:Parameter minimum=\"0\" name=\"clientId\" title=\"Client identifier to be used for metrics\" uiDisplay=\"Client identifier\" value=\"{referrer:source}\"/>    \n",
       "    </os:Url>  \n",
       "    <os:Query role=\"example\" searchTerms=\"Amazon River Basin Precipitation, 1972-1992\" title=\"Sample search\"/>  \n",
       "    <os:Attribution>NASA CMR</os:Attribution>  \n",
       "    <os:SyndicationRight>open</os:SyndicationRight>  \n",
       "    <os:Tags>CMR NASA CWIC CEOS-OS-BP-V1.1/L3 ESIP OGC collection pageOffset=1 indexOffset=0</os:Tags>  \n",
       "</os:OpenSearchDescription>\n",
       "```\n"
      ],
      "text/plain": [
       "<IPython.core.display.Markdown object>"
      ]
     },
     "execution_count": 57,
     "metadata": {},
     "output_type": "execute_result"
    }
   ],
   "source": [
    "response = requests.get( URL_OSDD )\n",
    "xmlstr = minidom.parseString(response.text).toprettyxml(indent='  ',newl='')\n",
    "md(\"```xml\\n\" + xmlstr + \"\\n```\\n\")"
   ]
  },
  {
   "cell_type": "markdown",
   "id": "9d926e35",
   "metadata": {},
   "source": [
    "**Step 2**  \n",
    ">  Search collections of interest through IDN OpenSearch with proper request parameters. "
   ]
  },
  {
   "cell_type": "markdown",
   "id": "e6a770f3",
   "metadata": {},
   "source": [
    "An example request can be formed as follows."
   ]
  },
  {
   "cell_type": "code",
   "execution_count": 58,
   "id": "4a578ebd",
   "metadata": {},
   "outputs": [
    {
     "data": {
      "text/plain": [
       "'https://cmr.earthdata.nasa.gov/opensearch/collections.atom?keyword={os:searchTerms?}&instrument={echo:instrument?}&satellite={eo:platform?}&boundingBox={geo:box?}&lat={geo:lat?}&lon={geo:lon?}&radius={geo:radius?}&geometry={geo:geometry?}&placeName={geo:name?}&startTime={time:start?}&endTime={time:end?}&cursor={os:startPage?}&numberOfResults={os:count?}&offset={os:startIndex?}&uid={geo:uid?}&hasGranules={echo:hasGranules?}&isCwic={echo:isCwic?}&isGeoss={echo:isGeoss?}&isCeos={echo:isCeos?}&isEosdis={echo:isEosdis?}&isFedeo={echo:isFedeo?}&provider={echo:provider?}&clientId=ceosOpenSearchDoc'"
      ]
     },
     "execution_count": 58,
     "metadata": {},
     "output_type": "execute_result"
    }
   ],
   "source": [
    "# find URL template for collection search\n",
    "root = ElementTree.fromstring(response.text)\n",
    "\n",
    "ns = {'os': 'http://a9.com/-/spec/opensearch/1.1/'}\n",
    "collection_url_atom = root.find('os:Url[@rel=\"collection\"][@type=\"application/atom+xml\"]', ns)\n",
    "\n",
    "collection_template = collection_url_atom.attrib['template']\n",
    "collection_template"
   ]
  },
  {
   "cell_type": "code",
   "execution_count": 59,
   "id": "613efbe7",
   "metadata": {},
   "outputs": [
    {
     "data": {
      "text/plain": [
       "'https://cmr.earthdata.nasa.gov/opensearch/collections.atom?keyword=Landsat_8&numberOfResults=10&clientId=ceosOpenSearchDoc'"
      ]
     },
     "execution_count": 59,
     "metadata": {},
     "output_type": "execute_result"
    }
   ],
   "source": [
    "request_url = get_api_request(collection_template, {'count': '10', 'searchTerms': 'Landsat_8'})\n",
    "request_url"
   ]
  },
  {
   "cell_type": "code",
   "execution_count": 60,
   "id": "4cf78fc4",
   "metadata": {
    "tags": [
     "output_scroll"
    ]
   },
   "outputs": [
    {
     "data": {
      "text/markdown": [
       "```xml\n",
       "<?xml version=\"1.0\" ?><feed esipdiscovery:version=\"1.2\" xmlns=\"http://www.w3.org/2005/Atom\" xmlns:dc=\"http://purl.org/dc/elements/1.1/\" xmlns:echo=\"https://cmr.earthdata.nasa.gov/search/site/docs/search/api.html#atom\" xmlns:eo=\"http://a9.com/-/opensearch/extensions/eo/1.0/\" xmlns:esipdiscovery=\"http://commons.esipfed.org/ns/discovery/1.2/\" xmlns:georss=\"http://www.georss.org/georss\" xmlns:gml=\"http://www.opengis.net/gml\" xmlns:os=\"http://a9.com/-/spec/opensearch/1.1/\" xmlns:relevance=\"http://a9.com/-/opensearch/extensions/relevance/1.0/\" xmlns:time=\"http://a9.com/-/opensearch/extensions/time/1.0/\">   \n",
       "     <updated>2024-12-06T09:53:12.778Z</updated>   \n",
       "     <id>https://cmr.earthdata.nasa.gov/opensearch/collections.atom</id>   \n",
       "     <author>      \n",
       "          <name>CMR</name>      \n",
       "          <email>echodev@echo.nasa.gov</email>      \n",
       "     </author>   \n",
       "     <title type=\"text\">ECHO dataset metadata</title>   \n",
       "     <subtitle type=\"text\">Search parameters: keyword =&gt; Landsat_8</subtitle>   \n",
       "     <link href=\"https://cmr.earthdata.nasa.gov/opensearch/granules/descriptor_document.xml\" hreflang=\"en-US\" rel=\"search\" type=\"application/opensearchdescription+xml\"/>   \n",
       "     <link href=\"https://cmr.earthdata.nasa.gov/opensearch/collections.atom?keyword=Landsat_8&amp;numberOfResults=10&amp;clientId=ceosOpenSearchDoc\" hreflang=\"en-US\" rel=\"self\" type=\"application/atom+xml\"/>   \n",
       "     <link href=\"https://cmr.earthdata.nasa.gov/opensearch/collections.atom?keyword=Landsat_8&amp;numberOfResults=10&amp;clientId=ceosOpenSearchDoc&amp;cursor=1\" hreflang=\"en-US\" rel=\"last\" type=\"application/atom+xml\"/>   \n",
       "     <link href=\"https://cmr.earthdata.nasa.gov/opensearch/collections.atom?keyword=Landsat_8&amp;numberOfResults=10&amp;clientId=ceosOpenSearchDoc&amp;cursor=1\" hreflang=\"en-US\" rel=\"first\" type=\"application/atom+xml\"/>   \n",
       "     <link href=\"https://wiki.earthdata.nasa.gov/display/echo/Open+Search+API+release+information\" hreflang=\"en-US\" rel=\"describedBy\" title=\"Release Notes\" type=\"text/html\"/>   \n",
       "     <os:Query os:searchTerms=\"Landsat_8\" role=\"request\" xmlns:geo=\"http://a9.com/-/opensearch/extensions/geo/1.0/\"/>   \n",
       "     <os:totalResults>1</os:totalResults>   \n",
       "     <os:itemsPerPage>10</os:itemsPerPage>   \n",
       "     <os:startIndex>1</os:startIndex>   \n",
       "     <entry>      \n",
       "          <id>https://cmr.earthdata.nasa.gov/opensearch/collections.atom?uid=C1235542031-USGS_LTA</id>      \n",
       "          <author>         \n",
       "               <name>CMR</name>         \n",
       "               <email>echodev@echo.nasa.gov</email>         \n",
       "          </author>      \n",
       "          <consortium>CEOS</consortium>      \n",
       "          <consortium>CWIC</consortium>      \n",
       "          <title type=\"text\">Landsat 8</title>      \n",
       "          <summary type=\"text\">The Operational Land Imager (OLI) and Thermal Infrared Sensor (TIRS) are onboard the Landsat 8 satellite, have acquired images of the Earth since  February 2013. The sensors collect images of the Earth with a 16-day repeat cycle, referenced to the Worldwide Reference System-2. The approximate scene size is 170 km north-south by 183 km east-west (106 mi by 114 mi).\n",
       "\n",
       "Landsat 8 image data files consist of 11 spectral bands with a spatial resolution of 30 meters for bands 1-7 and bands 9-11; 15-meters for the panchromatic band 8. Delivered Landsat 8 Level-1 data typically include both OLI and TIRS data files; however, there may be OLI-only and/or TIRS-only scenes in the USGS archive.  A Quality Assurance (QA.tif) band is also included. This file provides bit information regarding conditions that may affect the accuracy and usability of a given pixel – clouds, water or snow, for example.</summary>      \n",
       "          <updated/>      \n",
       "          <link href=\"http://glovis.usgs.gov\" hreflang=\"en-US\" rel=\"enclosure\"/>      \n",
       "          <link href=\"http://earthexplorer.usgs.gov\" hreflang=\"en-US\" rel=\"enclosure\"/>      \n",
       "          <link href=\"http://landsat.usgs.gov/landsat8.php\" hreflang=\"en-US\" rel=\"describedBy\"/>      \n",
       "          <link href=\"https://cmr.earthdata.nasa.gov/opensearch/granules/descriptor_document.xml?collectionConceptId=C1235542031-USGS_LTA\" hreflang=\"en-US\" length=\"0.0KB\" rel=\"http://esipfed.org/ns/fedsearch/1.1/search#\"/>      \n",
       "          <link href=\"https://cmr.earthdata.nasa.gov/opensearch/granules/descriptor_document.xml?collectionConceptId=C1235542031-USGS_LTA\" hreflang=\"en-US\" rel=\"search\" title=\"Non-CMR OpenSearch Provider Granule Open Search Descriptor Document\" type=\"application/opensearchdescription+xml\"/>      \n",
       "          <link href=\"https://cmr.earthdata.nasa.gov/search/concepts/C1235542031-USGS_LTA.xml\" hreflang=\"en-US\" rel=\"via\" title=\"Product metadata\" type=\"application/xml\"/>      \n",
       "          <dc:identifier>C1235542031-USGS_LTA</dc:identifier>      \n",
       "          <dc:date>2013-02-11T00:00:00.000Z/</dc:date>      \n",
       "          <echo:datasetId>Landsat 8</echo:datasetId>      \n",
       "          <echo:shortName>Landsat_8</echo:shortName>      \n",
       "          <echo:versionId>Not provided</echo:versionId>      \n",
       "          <echo:entryId>Landsat_8</echo:entryId>      \n",
       "          <echo:dataCenter>USGS_LTA</echo:dataCenter>      \n",
       "          <echo:archiveCenter>DOI/USGS/EROS</echo:archiveCenter>      \n",
       "          <echo:organization>DOI/USGS/EROS</echo:organization>      \n",
       "          <echo:processingLevelId>Not Provided</echo:processingLevelId>      \n",
       "          <echo:coordinateSystem>CARTESIAN</echo:coordinateSystem>      \n",
       "          <echo:orbitParameters/>      \n",
       "          <georss:box>-82.71 -180 82.74 180</georss:box>      \n",
       "          <echo:hasVariables>false</echo:hasVariables>      \n",
       "          <echo:hasFormats>false</echo:hasFormats>      \n",
       "          <echo:hasTransforms>false</echo:hasTransforms>      \n",
       "          <echo:hasCombine>false</echo:hasCombine>      \n",
       "          <echo:hasSpatialSubsetting>false</echo:hasSpatialSubsetting>      \n",
       "          <echo:hasTemporalSubsetting>false</echo:hasTemporalSubsetting>      \n",
       "          <echo:cloudHosted>false</echo:cloudHosted>      \n",
       "          <relevance:score>0.97999995</relevance:score>      \n",
       "          <echo:tag>         \n",
       "               <echo:tagKey>gov.nasa.eosdis</echo:tagKey>         \n",
       "          </echo:tag>      \n",
       "          <echo:tag>         \n",
       "               <echo:tagKey>org.geoss.geoss_data-core</echo:tagKey>         \n",
       "          </echo:tag>      \n",
       "          <echo:tag>         \n",
       "               <echo:tagKey>org.ceos.wgiss.cwic.granules.provider</echo:tagKey>         \n",
       "               <echo:data>&quot;USGSLSI&quot;</echo:data>         \n",
       "          </echo:tag>      \n",
       "          <echo:tag>         \n",
       "               <echo:tagKey>org.ceos.wgiss.cwic.granules.prod</echo:tagKey>         \n",
       "               <echo:data>&quot; &quot;</echo:data>         \n",
       "          </echo:tag>      \n",
       "          <echo:is_geoss>true</echo:is_geoss>      \n",
       "          <echo:is_eosdis>true</echo:is_eosdis>      \n",
       "     </entry>   \n",
       "</feed>\n",
       "```\n"
      ],
      "text/plain": [
       "<IPython.core.display.Markdown object>"
      ]
     },
     "execution_count": 60,
     "metadata": {},
     "output_type": "execute_result"
    }
   ],
   "source": [
    "response = requests.get( request_url )\n",
    "xmlstr = minidom.parseString(response.text).toprettyxml(indent='   ', newl='')\n",
    "md(\"```xml\\n\" + xmlstr + \"\\n```\\n\")"
   ]
  },
  {
   "cell_type": "markdown",
   "id": "a6b347c3",
   "metadata": {},
   "source": [
    "**Step 3**  \n",
    ">  From the IDN OpenSearch response obtain the OSDD endpoint for the collection by parsing the href attribute in the `<link rel=\"search\" type=\"application/opensearchdescription+xml\" />` element. Note that the OSDD endpoint may refer to CWIC or FedEO. "
   ]
  },
  {
   "cell_type": "code",
   "execution_count": 61,
   "id": "4481ceea",
   "metadata": {},
   "outputs": [
    {
     "data": {
      "text/plain": [
       "'https://cmr.earthdata.nasa.gov/opensearch/collections.atom?&numberOfResults=10&uid=C1235542031-USGS_LTA&clientId=ceosOpenSearchDoc'"
      ]
     },
     "execution_count": 61,
     "metadata": {},
     "output_type": "execute_result"
    }
   ],
   "source": [
    "request_url = get_api_request(collection_template, {'count': '10', 'geo:uid': 'C1235542031-USGS_LTA'})\n",
    "request_url"
   ]
  },
  {
   "cell_type": "code",
   "execution_count": 62,
   "id": "7caab6c5",
   "metadata": {},
   "outputs": [
    {
     "data": {
      "text/markdown": [
       "```xml\n",
       "<?xml version=\"1.0\" ?><feed esipdiscovery:version=\"1.2\" xmlns=\"http://www.w3.org/2005/Atom\" xmlns:dc=\"http://purl.org/dc/elements/1.1/\" xmlns:echo=\"https://cmr.earthdata.nasa.gov/search/site/docs/search/api.html#atom\" xmlns:eo=\"http://a9.com/-/opensearch/extensions/eo/1.0/\" xmlns:esipdiscovery=\"http://commons.esipfed.org/ns/discovery/1.2/\" xmlns:georss=\"http://www.georss.org/georss\" xmlns:gml=\"http://www.opengis.net/gml\" xmlns:os=\"http://a9.com/-/spec/opensearch/1.1/\" xmlns:time=\"http://a9.com/-/opensearch/extensions/time/1.0/\">   \n",
       "     <updated>2024-12-06T09:53:13.788Z</updated>   \n",
       "     <id>https://cmr.earthdata.nasa.gov/opensearch/collections.atom</id>   \n",
       "     <author>      \n",
       "          <name>CMR</name>      \n",
       "          <email>echodev@echo.nasa.gov</email>      \n",
       "     </author>   \n",
       "     <title type=\"text\">ECHO dataset metadata</title>   \n",
       "     <subtitle type=\"text\">Search parameters: uid =&gt; C1235542031-USGS_LTA</subtitle>   \n",
       "     <link href=\"https://cmr.earthdata.nasa.gov/opensearch/granules/descriptor_document.xml\" hreflang=\"en-US\" rel=\"search\" type=\"application/opensearchdescription+xml\"/>   \n",
       "     <link href=\"https://cmr.earthdata.nasa.gov/opensearch/collections.atom?&amp;numberOfResults=10&amp;uid=C1235542031-USGS_LTA&amp;clientId=ceosOpenSearchDoc\" hreflang=\"en-US\" rel=\"self\" type=\"application/atom+xml\"/>   \n",
       "     <link href=\"https://cmr.earthdata.nasa.gov/opensearch/collections.atom?&amp;numberOfResults=10&amp;uid=C1235542031-USGS_LTA&amp;clientId=ceosOpenSearchDoc&amp;cursor=1\" hreflang=\"en-US\" rel=\"last\" type=\"application/atom+xml\"/>   \n",
       "     <link href=\"https://cmr.earthdata.nasa.gov/opensearch/collections.atom?&amp;numberOfResults=10&amp;uid=C1235542031-USGS_LTA&amp;clientId=ceosOpenSearchDoc&amp;cursor=1\" hreflang=\"en-US\" rel=\"first\" type=\"application/atom+xml\"/>   \n",
       "     <link href=\"https://wiki.earthdata.nasa.gov/display/echo/Open+Search+API+release+information\" hreflang=\"en-US\" rel=\"describedBy\" title=\"Release Notes\" type=\"text/html\"/>   \n",
       "     <os:Query geo:uid=\"C1235542031-USGS_LTA\" role=\"request\" xmlns:geo=\"http://a9.com/-/opensearch/extensions/geo/1.0/\"/>   \n",
       "     <os:totalResults>1</os:totalResults>   \n",
       "     <os:itemsPerPage>10</os:itemsPerPage>   \n",
       "     <os:startIndex>1</os:startIndex>   \n",
       "     <entry>      \n",
       "          <id>https://cmr.earthdata.nasa.gov/opensearch/collections.atom?uid=C1235542031-USGS_LTA</id>      \n",
       "          <author>         \n",
       "               <name>CMR</name>         \n",
       "               <email>echodev@echo.nasa.gov</email>         \n",
       "          </author>      \n",
       "          <consortium>CEOS</consortium>      \n",
       "          <consortium>CWIC</consortium>      \n",
       "          <title type=\"text\">Landsat 8</title>      \n",
       "          <summary type=\"text\">The Operational Land Imager (OLI) and Thermal Infrared Sensor (TIRS) are onboard the Landsat 8 satellite, have acquired images of the Earth since  February 2013. The sensors collect images of the Earth with a 16-day repeat cycle, referenced to the Worldwide Reference System-2. The approximate scene size is 170 km north-south by 183 km east-west (106 mi by 114 mi).\n",
       "\n",
       "Landsat 8 image data files consist of 11 spectral bands with a spatial resolution of 30 meters for bands 1-7 and bands 9-11; 15-meters for the panchromatic band 8. Delivered Landsat 8 Level-1 data typically include both OLI and TIRS data files; however, there may be OLI-only and/or TIRS-only scenes in the USGS archive.  A Quality Assurance (QA.tif) band is also included. This file provides bit information regarding conditions that may affect the accuracy and usability of a given pixel – clouds, water or snow, for example.</summary>      \n",
       "          <updated/>      \n",
       "          <link href=\"http://glovis.usgs.gov\" hreflang=\"en-US\" rel=\"enclosure\"/>      \n",
       "          <link href=\"http://earthexplorer.usgs.gov\" hreflang=\"en-US\" rel=\"enclosure\"/>      \n",
       "          <link href=\"http://landsat.usgs.gov/landsat8.php\" hreflang=\"en-US\" rel=\"describedBy\"/>      \n",
       "          <link href=\"https://cmr.earthdata.nasa.gov/opensearch/granules/descriptor_document.xml?collectionConceptId=C1235542031-USGS_LTA\" hreflang=\"en-US\" length=\"0.0KB\" rel=\"http://esipfed.org/ns/fedsearch/1.1/search#\"/>      \n",
       "          <link href=\"https://cmr.earthdata.nasa.gov/opensearch/granules/descriptor_document.xml?collectionConceptId=C1235542031-USGS_LTA\" hreflang=\"en-US\" rel=\"search\" title=\"Non-CMR OpenSearch Provider Granule Open Search Descriptor Document\" type=\"application/opensearchdescription+xml\"/>      \n",
       "          <link href=\"https://cmr.earthdata.nasa.gov/search/concepts/C1235542031-USGS_LTA.xml\" hreflang=\"en-US\" rel=\"via\" title=\"Product metadata\" type=\"application/xml\"/>      \n",
       "          <dc:identifier>C1235542031-USGS_LTA</dc:identifier>      \n",
       "          <dc:date>2013-02-11T00:00:00.000Z/</dc:date>      \n",
       "          <echo:datasetId>Landsat 8</echo:datasetId>      \n",
       "          <echo:shortName>Landsat_8</echo:shortName>      \n",
       "          <echo:versionId>Not provided</echo:versionId>      \n",
       "          <echo:entryId>Landsat_8</echo:entryId>      \n",
       "          <echo:dataCenter>USGS_LTA</echo:dataCenter>      \n",
       "          <echo:archiveCenter>DOI/USGS/EROS</echo:archiveCenter>      \n",
       "          <echo:organization>DOI/USGS/EROS</echo:organization>      \n",
       "          <echo:processingLevelId>Not Provided</echo:processingLevelId>      \n",
       "          <echo:coordinateSystem>CARTESIAN</echo:coordinateSystem>      \n",
       "          <echo:orbitParameters/>      \n",
       "          <georss:box>-82.71 -180 82.74 180</georss:box>      \n",
       "          <echo:hasVariables>false</echo:hasVariables>      \n",
       "          <echo:hasFormats>false</echo:hasFormats>      \n",
       "          <echo:hasTransforms>false</echo:hasTransforms>      \n",
       "          <echo:hasCombine>false</echo:hasCombine>      \n",
       "          <echo:hasSpatialSubsetting>false</echo:hasSpatialSubsetting>      \n",
       "          <echo:hasTemporalSubsetting>false</echo:hasTemporalSubsetting>      \n",
       "          <echo:cloudHosted>false</echo:cloudHosted>      \n",
       "          <echo:tag>         \n",
       "               <echo:tagKey>gov.nasa.eosdis</echo:tagKey>         \n",
       "          </echo:tag>      \n",
       "          <echo:tag>         \n",
       "               <echo:tagKey>org.geoss.geoss_data-core</echo:tagKey>         \n",
       "          </echo:tag>      \n",
       "          <echo:tag>         \n",
       "               <echo:tagKey>org.ceos.wgiss.cwic.granules.provider</echo:tagKey>         \n",
       "               <echo:data>&quot;USGSLSI&quot;</echo:data>         \n",
       "          </echo:tag>      \n",
       "          <echo:tag>         \n",
       "               <echo:tagKey>org.ceos.wgiss.cwic.granules.prod</echo:tagKey>         \n",
       "               <echo:data>&quot; &quot;</echo:data>         \n",
       "          </echo:tag>      \n",
       "          <echo:is_geoss>true</echo:is_geoss>      \n",
       "          <echo:is_eosdis>true</echo:is_eosdis>      \n",
       "     </entry>   \n",
       "</feed>\n",
       "```\n"
      ],
      "text/plain": [
       "<IPython.core.display.Markdown object>"
      ]
     },
     "execution_count": 62,
     "metadata": {},
     "output_type": "execute_result"
    }
   ],
   "source": [
    "response = requests.get( request_url )\n",
    "xmlstr = minidom.parseString(response.text).toprettyxml(indent='   ', newl='')\n",
    "md(\"```xml\\n\" + xmlstr + \"\\n```\\n\")"
   ]
  },
  {
   "cell_type": "markdown",
   "id": "383404df",
   "metadata": {},
   "source": [
    "Obtain the OSDD endpoint for the granule search for this collection by parsing the href attribute in `<link rel=\"search\"\n",
    "type=\"application/opensearchdescription+xml\" >`"
   ]
  },
  {
   "cell_type": "code",
   "execution_count": 63,
   "id": "f1ea492e",
   "metadata": {},
   "outputs": [
    {
     "data": {
      "text/markdown": [
       "```xml\n",
       "<ns0:link xmlns:ns0=\"http://www.w3.org/2005/Atom\" href=\"https://cmr.earthdata.nasa.gov/opensearch/granules/descriptor_document.xml?collectionConceptId=C1235542031-USGS_LTA\" hreflang=\"en-US\" rel=\"search\" title=\"Non-CMR OpenSearch Provider Granule Open Search Descriptor Document\" type=\"application/opensearchdescription+xml\" />\n",
       "    \n",
       "```\n"
      ],
      "text/plain": [
       "<IPython.core.display.Markdown object>"
      ]
     },
     "execution_count": 63,
     "metadata": {},
     "output_type": "execute_result"
    }
   ],
   "source": [
    "root = ElementTree.fromstring(response.text)\n",
    "# Extract <link> element with the OSDD for the granule search with Atom response\n",
    "el = root.find('{http://www.w3.org/2005/Atom}entry/{http://www.w3.org/2005/Atom}link[@rel=\"search\"][@type=\"application/opensearchdescription+xml\"]')\n",
    "xmltxt = ElementTree.tostring(el, encoding='unicode', method='xml')\n",
    "md(\"```xml\\n\" + xmltxt + \"\\n```\\n\")"
   ]
  },
  {
   "cell_type": "markdown",
   "id": "76ea41a2",
   "metadata": {},
   "source": [
    "Extract the URL of the OSDD endpoint from the `<link>`."
   ]
  },
  {
   "cell_type": "code",
   "execution_count": 64,
   "id": "9b2ab19c",
   "metadata": {},
   "outputs": [
    {
     "data": {
      "text/plain": [
       "'https://cmr.earthdata.nasa.gov/opensearch/granules/descriptor_document.xml?collectionConceptId=C1235542031-USGS_LTA'"
      ]
     },
     "execution_count": 64,
     "metadata": {},
     "output_type": "execute_result"
    }
   ],
   "source": [
    "url_osdd = el.attrib['href']\n",
    "el.attrib['href']"
   ]
  },
  {
   "cell_type": "markdown",
   "id": "3d53a56b",
   "metadata": {},
   "source": [
    "**Step 4**  \n",
    ">  From the collection OSDD found in the IDN OpenSearch response, formulate a valid granule search request. How to do this is explained in sections (“CWIC”) and (“FedEO”).  "
   ]
  },
  {
   "cell_type": "markdown",
   "id": "418adb80",
   "metadata": {},
   "source": [
    "In principle, CEOS OpenSearch clients compliant with CEOS OpenSearch Best Practices should\n",
    "not care whether the second step (i.e. Granule search) redirects to CWIC or FedEO as both\n",
    "endpoints provide the same interface which clients should discover by obtaining the OSDD.\n",
    "Search parameters in the URL template which are specific to one of both endpoints (i.e. not defined\n",
    "in the CEOS Best Practice for OpenSearch or belonging to a foreign namespace) can be left empty\n",
    "when preparing the granule search request."
   ]
  },
  {
   "cell_type": "markdown",
   "id": "08becdcf",
   "metadata": {},
   "source": [
    "## Available Collection Search Criteria"
   ]
  },
  {
   "cell_type": "markdown",
   "id": "03811d85",
   "metadata": {},
   "source": [
    "CEOS OpenSearch is used as the IDN’s collections search implementation based on\n",
    "the [OpenSearch 1.1 (Draft 5) specification](https://github.com/dewitt/opensearch/blob/master/opensearch-1-1-draft-6.md) and is compliant with the CEOS OpenSearch Best\n",
    "Practices. The IDN OpenSearch API allows clients to formulate OpenSearch compliant queries\n",
    "against the IDN collections and specify the desired search results format as OpenSearch\n",
    "compliant Atom or HTML. The IDN OpenSearch API implements the following search fields for\n",
    "users’ queries:"
   ]
  },
  {
   "cell_type": "markdown",
   "id": "6bb9cebc",
   "metadata": {},
   "source": [
    "**Table of collection search criteria**"
   ]
  },
  {
   "cell_type": "code",
   "execution_count": 65,
   "id": "bab4e4b7",
   "metadata": {
    "tags": [
     "remove-input"
    ]
   },
   "outputs": [
    {
     "data": {
      "text/html": [
       "\n",
       "<table>\n",
       "\n",
       "<tr><th>Request<br/>\n",
       "Parameter</th><th align=\"left\">\n",
       "Description\n",
       "</th><th>Value &\n",
       "Cardinality<br/>\n",
       "(M) = mandatory<br/>\n",
       "(O) = optional\n",
       "</th><th>\n",
       "Type</th></tr>\n",
       "\n",
       "\n",
       "<tr><td>boundingBox</td><td align=\"left\"> Inventory with a spatial extent overlapping\n",
       "this bounding box\n",
       "</td><td>(O)</td><td> geo:box</td></tr>\n",
       "\n",
       "<tr><td>keyword</td><td align=\"left\"> Inventory with terms expressed by these\n",
       "search terms\n",
       "</td><td>(O)</td><td> os:searchTerms</td></tr>\n",
       "\n",
       "<tr><td>instrument</td><td align=\"left\"> Inventory associated with a satellite\n",
       "instrument expressed by this short name\n",
       "</td><td>(O)</td><td> echo:instrument</td></tr>\n",
       "\n",
       "\n",
       "<tr><td>satellite</td><td align=\"left\"> Inventory associated with a\n",
       "Satellite/platform expressed by this short\n",
       "name\n",
       "</td><td>(O)</td><td> eo:platform</td></tr>\n",
       "\n",
       "<tr><td>geometry</td><td align=\"left\"> Inventory with a spatial extent overlapping\n",
       "this geometry\n",
       "</td><td>(O)</td><td> geo:geometry</td></tr>\n",
       "\n",
       "<tr><td>placeName</td><td align=\"left\"> Inventory with a spatial location described\n",
       "by this name\n",
       "</td><td>(O)</td><td> geo:name</td></tr>\n",
       "\n",
       "<tr><td>startTime</td><td align=\"left\"> Inventory with a temporal extent containing\n",
       "this start time\n",
       "</td><td>(O)</td><td> time:start</td></tr>\n",
       "\n",
       "<tr><td>endTime</td><td align=\"left\"> Inventory with a temporal extent containing\n",
       "this end time\n",
       "</td><td>(O)</td><td> time:end</td></tr>\n",
       "\n",
       "\n",
       "<tr><td>cursor</td><td align=\"left\"> Start page for the search result </td><td>(O)</td><td> os:startPage</td></tr>\n",
       "\n",
       "<tr><td>numberOfResults</td><td align=\"left\"> Maximum number of records in the search\n",
       "result\n",
       "</td><td>(O)</td><td> os:count</td></tr>\n",
       "\n",
       "\n",
       "<tr><td>offset</td><td align=\"left\"> 0 - based offset used to skip the specified\n",
       "number of results in the search result set\n",
       "</td><td>(O)</td><td> os:startIndex</td></tr>\n",
       "\n",
       "<tr><td>uid</td><td align=\"left\"> Inventory associated with this unique ID</td><td>(O)</td><td> geo:uid</td></tr>\n",
       "<tr><td>hasGranules</td><td align=\"left\"> Inventory with granules</td><td>(O)</td><td> echo:hasGranules</td></tr>\n",
       "<tr><td>isCwic</td><td align=\"left\"> Inventory related to CWIC</td><td>(O)</td><td> echo:isCwic</td></tr>\n",
       "<tr><td>isGeoss</td><td align=\"left\"> Inventory related to GEOSS</td><td>(O)</td><td> echo:isGeoss</td></tr>\n",
       "<tr><td>isCeos</td><td align=\"left\"> Inventory related to CEOS</td><td>(O)</td><td></td></tr>\n",
       "<tr><td>isEosdis</td><td align=\"left\"> Inventory related to EOSDIS</td><td>(O)</td><td> echo:isEosdis</td></tr>\n",
       "<tr><td>provider</td><td align=\"left\"> Inventory associated with a provider</td><td>(O)</td><td> echo:provider</td></tr>\n",
       "<tr><td>clientId</td><td align=\"left\"> Client identifier to be used for metrics</td><td>(O)</td><td> cswOpenSearchDoc</td></tr>\n",
       "\n",
       "</table>\n"
      ],
      "text/plain": [
       "<IPython.core.display.HTML object>"
      ]
     },
     "metadata": {},
     "output_type": "display_data"
    }
   ],
   "source": [
    "%%html\n",
    "\n",
    "<table>\n",
    "\n",
    "<tr><th>Request<br/>\n",
    "Parameter</th><th align=\"left\">\n",
    "Description\n",
    "</th><th>Value &\n",
    "Cardinality<br/>\n",
    "(M) = mandatory<br/>\n",
    "(O) = optional\n",
    "</th><th>\n",
    "Type</th></tr>\n",
    "\n",
    "\n",
    "<tr><td>boundingBox</td><td align=\"left\"> Inventory with a spatial extent overlapping\n",
    "this bounding box\n",
    "</td><td>(O)</td><td> geo:box</td></tr>\n",
    "\n",
    "<tr><td>keyword</td><td align=\"left\"> Inventory with terms expressed by these\n",
    "search terms\n",
    "</td><td>(O)</td><td> os:searchTerms</td></tr>\n",
    "\n",
    "<tr><td>instrument</td><td align=\"left\"> Inventory associated with a satellite\n",
    "instrument expressed by this short name\n",
    "</td><td>(O)</td><td> echo:instrument</td></tr>\n",
    "\n",
    "\n",
    "<tr><td>satellite</td><td align=\"left\"> Inventory associated with a\n",
    "Satellite/platform expressed by this short\n",
    "name\n",
    "</td><td>(O)</td><td> eo:platform</td></tr>\n",
    "\n",
    "<tr><td>geometry</td><td align=\"left\"> Inventory with a spatial extent overlapping\n",
    "this geometry\n",
    "</td><td>(O)</td><td> geo:geometry</td></tr>\n",
    "\n",
    "<tr><td>placeName</td><td align=\"left\"> Inventory with a spatial location described\n",
    "by this name\n",
    "</td><td>(O)</td><td> geo:name</td></tr>\n",
    "\n",
    "<tr><td>startTime</td><td align=\"left\"> Inventory with a temporal extent containing\n",
    "this start time\n",
    "</td><td>(O)</td><td> time:start</td></tr>\n",
    "\n",
    "<tr><td>endTime</td><td align=\"left\"> Inventory with a temporal extent containing\n",
    "this end time\n",
    "</td><td>(O)</td><td> time:end</td></tr>\n",
    "\n",
    "\n",
    "<tr><td>cursor</td><td align=\"left\"> Start page for the search result </td><td>(O)</td><td> os:startPage</td></tr>\n",
    "\n",
    "<tr><td>numberOfResults</td><td align=\"left\"> Maximum number of records in the search\n",
    "result\n",
    "</td><td>(O)</td><td> os:count</td></tr>\n",
    "\n",
    "\n",
    "<tr><td>offset</td><td align=\"left\"> 0 - based offset used to skip the specified\n",
    "number of results in the search result set\n",
    "</td><td>(O)</td><td> os:startIndex</td></tr>\n",
    "\n",
    "<tr><td>uid</td><td align=\"left\"> Inventory associated with this unique ID</td><td>(O)</td><td> geo:uid</td></tr>\n",
    "<tr><td>hasGranules</td><td align=\"left\"> Inventory with granules</td><td>(O)</td><td> echo:hasGranules</td></tr>\n",
    "<tr><td>isCwic</td><td align=\"left\"> Inventory related to CWIC</td><td>(O)</td><td> echo:isCwic</td></tr>\n",
    "<tr><td>isGeoss</td><td align=\"left\"> Inventory related to GEOSS</td><td>(O)</td><td> echo:isGeoss</td></tr>\n",
    "<tr><td>isCeos</td><td align=\"left\"> Inventory related to CEOS</td><td>(O)</td><td></td></tr>\n",
    "<tr><td>isEosdis</td><td align=\"left\"> Inventory related to EOSDIS</td><td>(O)</td><td> echo:isEosdis</td></tr>\n",
    "<tr><td>provider</td><td align=\"left\"> Inventory associated with a provider</td><td>(O)</td><td> echo:provider</td></tr>\n",
    "<tr><td>clientId</td><td align=\"left\"> Client identifier to be used for metrics</td><td>(O)</td><td> cswOpenSearchDoc</td></tr>\n",
    "\n",
    "</table>"
   ]
  },
  {
   "cell_type": "markdown",
   "id": "164a4b1d",
   "metadata": {},
   "source": [
    "Also, client developers are able to query with specific tags: isCeos, isCwic, isGeoss, and isFedEO.\n",
    "Tagging allows arbitrary sets of collections to be grouped under a single namespace value. The\n",
    "sets of collections can be recalled later when searching by tag fields.\n",
    "\n",
    "IDN query examples:\n",
    "\n",
    "- GET the first 10 IDN collections with results in the Atom format:\n",
    "    https://cmr.earthdata.nasa.gov/opensearch/collections.atom?numberOfResults=10&clientId=cswOpenSearchDoc\n",
    "- GET the first 10 IDN collections containing the GCMD instrument keyword MODIS\n",
    "    with results in the Atom output format:\n",
    "    https://cmr.earthdata.nasa.gov/opensearch/collections.atom?instrument=MODIS&numberOfResults=10&clientId=cswOpenSearchDoc\n",
    "- GET the first 10 CWIC IDN collections containing the GCMD instrument keyword\n",
    "    MODIS with results in the HTML format:\n",
    "    https://cmr.earthdata.nasa.gov/opensearch/collections?instrument=MODIS&isCwic=true&numberOfResults=10&clientId=cswOpenSearchDoc\n",
    "\n"
   ]
  }
 ],
 "metadata": {
  "description": "This notebook explains the use of the OpenSearch interface with Atom response format to access collection and granule metadata according to the two-step mechanism recommended by CEOS Best Practices. It can be used with the ESA EO-CAT and CEOS FedEO catalogue endpoints.",
  "kernelspec": {
   "display_name": "Python 3",
   "language": "python",
   "name": "python3"
  },
  "language_info": {
   "codemirror_mode": {
    "name": "ipython",
    "version": 3
   },
   "file_extension": ".py",
   "mimetype": "text/x-python",
   "name": "python",
   "nbconvert_exporter": "python",
   "pygments_lexer": "ipython3",
   "version": "3.7.6"
  },
  "potentialAction": [
   {
    "@type": "InteractAction",
    "name": "Launch Binder",
    "target": "https://mybinder.org/v2/gh/eovoc/eo-books/main?urlpath=tree/docs/opensearch.ipynb"
   },
   {
    "@type": "InteractAction",
    "name": "Open in Google Colab",
    "target": "https://colab.research.google.com/github/eovoc/eo-books/blob/main/docs/opensearch.ipynb"
   }
  ],
  "tags": {
   "tags": [
    "EOCAT",
    "FedEO",
    "OpenSearch",
    "Data Access/Retrieval",
    "Metadata Handling",
    "Service Discovery",
    "Data Discovery",
    "CDA",
    "CEOS",
    "OGC",
    "ESA"
   ]
  },
  "title": "OpenSearch with Atom"
 },
 "nbformat": 4,
 "nbformat_minor": 5
}
