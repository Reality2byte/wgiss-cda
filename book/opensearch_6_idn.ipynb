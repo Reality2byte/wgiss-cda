{
 "cells": [
  {
   "attachments": {},
   "cell_type": "markdown",
   "id": "d99fea47",
   "metadata": {},
   "source": [
    "(chapter-idn)=\n",
    "# Use Case - Collection Search (IDN)\n",
    "\n",
    "This chapter provides a comprehensive and detailed process about how to implement a WGISS\n",
    "OpenSearch client, which includes how to retrieve the OSDD for the collection of interest, and\n",
    "how to build an OpenSearch request. "
   ]
  },
  {
   "cell_type": "code",
   "execution_count": null,
   "id": "90481aae",
   "metadata": {
    "tags": [
     "remove-cell"
    ]
   },
   "outputs": [],
   "source": [
    "import re\n",
    "import json, requests, xml\n",
    "# import pandas as pd\n",
    "# import ipywidgets as widgets\n",
    "\n",
    "from xml.dom import minidom\n",
    "# from IPython.display import Image\n",
    "from xml.etree import ElementTree\n",
    "# from IPython.display import HTML\n",
    "from IPython.display import Markdown as md"
   ]
  },
  {
   "cell_type": "code",
   "execution_count": null,
   "id": "1942bb9c",
   "metadata": {
    "tags": [
     "remove-cell"
    ]
   },
   "outputs": [],
   "source": [
    "def get_api_request(template, os_querystring):\n",
    "  # Fill (URL) template with OpenSearch parameter values provided in os_querystring and return as short HTTP URL without empty parameters.\n",
    "  \n",
    "  # print(\"URL template: \" + template)\n",
    "  \n",
    "  # Limitation: the OSDD may use a default namespace for OpenSearch instead of using \"os\".\n",
    "  # We make a simple correction here allowing to use OpenSearch queryables without namespace in requests.\n",
    "  # A more generic solution to obtain namespaces from the OSDD and compare them with user supplied namespaces is future work.\n",
    "  \n",
    "  OS_NAMESPACE = 'os:'\n",
    "      \n",
    "  # perform substitutions in template\n",
    "  for p in os_querystring:\n",
    "      # print(\"  .. replacing:\", p, \"by\", os_querystring[p])\n",
    "      # template = re.sub('\\{'+p+'.*?\\}', os_querystring[p] , template)\n",
    "      result = re.subn('\\{'+p+'.*?\\}', os_querystring[p] , template)\n",
    "      n = result[1]\n",
    "      template = result[0]\n",
    "      if (n<1):\n",
    "          if (':' in p):\n",
    "                print(\"ERROR: parameter \" + p + \" not found in template.\")\n",
    "          else:\n",
    "                # try with explicit namespace\n",
    "                result = re.subn('\\{'+OS_NAMESPACE+p+'.*?\\}', os_querystring[p] , template)\n",
    "                n = result[1]\n",
    "                template = result[0]\n",
    "                if (n<1):\n",
    "                    print(\"ERROR: parameter \" + OS_NAMESPACE+p + \" not found in template.\")   \n",
    "      \n",
    "      # print(\"- intermediate new template:\" + template)\n",
    "      \n",
    "  # remove empty search parameters\n",
    "  template=re.sub('&?[a-zA-Z]*=\\{.*?\\}', '' , template)\n",
    "  \n",
    "  # remove remaining empty search parameters which did not have an HTTP query parameter attached (e.g. /{time:end}).\n",
    "  template=re.sub('.?\\{.*?\\}', '' , template)\n",
    "  \n",
    "  # print(\"API request: \" + template)\n",
    "            \n",
    "  return (template)"
   ]
  },
  {
   "cell_type": "markdown",
   "id": "10402a9a",
   "metadata": {},
   "source": [
    "## IDN Systems\n"
   ]
  },
  {
   "cell_type": "markdown",
   "id": "0dda4f70",
   "metadata": {},
   "source": [
    "The IDN, CMR OpenSearch (for IDN), and the GCMD’s Keyword Management Service (KMS)\n",
    "only have operational systems which end-users can access.\n",
    "\n",
    "- IDN site is available to all users.  Location: https://idn.ceos.org/\n",
    "- OpenSearch API for IDN (via CMR). Production instance is available to all users.  Location: https://cmr.earthdata.nasa.gov/opensearch/\n",
    "- KMS - production instance is available to all users.  Location: https://gcmd.earthdata.nasa.gov/kms/capabilities?format=html\n",
    "\n",
    "The IDN site search interface and the CMR OpenSearch production instances will provide access to all collections which have been registered in the IDN. The KMS production instance will provide access to all approved GCMD keywords registered by IDN providers."
   ]
  },
  {
   "cell_type": "markdown",
   "id": "766f19de",
   "metadata": {},
   "source": [
    "(section_Retrieve_Collections_via_IDN_OpenSearch)=\n",
    "## Retrieve Collections via IDN OpenSearch\n",
    "\n",
    "CEOS OpenSearch supports searching for collections through the IDN. Searching for granules in a specific collection is supported at the data partners via the Granule Gateways (see chapter\n",
    "“CWIC” and chapter [\"FedEO\"](chapter-fedeo)). It executes a collection or inventory search, as appropriate, and returns the matching results.  In order to create a valid request, clients have to obtain the IDN OpenSearch OSDD and fill request\n",
    "parameters with proper values."
   ]
  },
  {
   "cell_type": "markdown",
   "id": "f40ba8b5",
   "metadata": {},
   "source": [
    "**Step 1**  \n",
    ">  Obtain the IDN OpenSearch OSDD to formulate a valid IDN OpenSearch request."
   ]
  },
  {
   "cell_type": "code",
   "execution_count": null,
   "id": "75bcedb3",
   "metadata": {},
   "outputs": [],
   "source": [
    "URL_OSDD = \"https://cmr.earthdata.nasa.gov/opensearch/collections/descriptor_document.xml?clientId=ceosOpenSearchDoc\""
   ]
  },
  {
   "cell_type": "markdown",
   "id": "43f00652",
   "metadata": {},
   "source": [
    "The template of the OpenSearch request is available under the `<Url>` element corresponding to the media type (Atom) in the OSDD and is included below."
   ]
  },
  {
   "cell_type": "code",
   "execution_count": null,
   "id": "7186f6c8",
   "metadata": {
    "tags": [
     "output_scroll",
     "remove-input"
    ]
   },
   "outputs": [],
   "source": [
    "response = requests.get( URL_OSDD )\n",
    "xmlstr = minidom.parseString(response.text).toprettyxml(indent='  ',newl='')\n",
    "md(\"```xml\\n\" + xmlstr + \"\\n```\\n\")"
   ]
  },
  {
   "cell_type": "markdown",
   "id": "9d926e35",
   "metadata": {},
   "source": [
    "**Step 2**  \n",
    ">  Search collections of interest through IDN OpenSearch with proper request parameters. "
   ]
  },
  {
   "cell_type": "markdown",
   "id": "e6a770f3",
   "metadata": {},
   "source": [
    "An example request can be formed as follows."
   ]
  },
  {
   "cell_type": "code",
   "execution_count": null,
   "id": "4a578ebd",
   "metadata": {},
   "outputs": [],
   "source": [
    "# find URL template for collection search\n",
    "root = ElementTree.fromstring(response.text)\n",
    "\n",
    "ns = {'os': 'http://a9.com/-/spec/opensearch/1.1/'}\n",
    "collection_url_atom = root.find('os:Url[@rel=\"collection\"][@type=\"application/atom+xml\"]', ns)\n",
    "\n",
    "collection_template = collection_url_atom.attrib['template']\n",
    "collection_template"
   ]
  },
  {
   "cell_type": "code",
   "execution_count": null,
   "id": "613efbe7",
   "metadata": {},
   "outputs": [],
   "source": [
    "request_url = get_api_request(collection_template, {'count': '10', 'searchTerms': 'Landsat_8'})\n",
    "request_url"
   ]
  },
  {
   "cell_type": "code",
   "execution_count": null,
   "id": "4cf78fc4",
   "metadata": {
    "tags": [
     "output_scroll"
    ]
   },
   "outputs": [],
   "source": [
    "response = requests.get( request_url )\n",
    "xmlstr = minidom.parseString(response.text).toprettyxml(indent='   ', newl='')\n",
    "md(\"```xml\\n\" + xmlstr + \"\\n```\\n\")"
   ]
  },
  {
   "cell_type": "markdown",
   "id": "a6b347c3",
   "metadata": {},
   "source": [
    "**Step 3**  \n",
    ">  From the IDN OpenSearch response obtain the OSDD endpoint for the collection by parsing the href attribute in the `<link rel=\"search\" type=\"application/opensearchdescription+xml\" />` element. Note that the OSDD endpoint may refer to CWIC or FedEO. "
   ]
  },
  {
   "cell_type": "code",
   "execution_count": null,
   "id": "4481ceea",
   "metadata": {},
   "outputs": [],
   "source": [
    "request_url = get_api_request(collection_template, {'count': '10', 'geo:uid': 'C1235542031-USGS_LTA'})\n",
    "request_url"
   ]
  },
  {
   "cell_type": "code",
   "execution_count": null,
   "id": "7caab6c5",
   "metadata": {},
   "outputs": [],
   "source": [
    "response = requests.get( request_url )\n",
    "xmlstr = minidom.parseString(response.text).toprettyxml(indent='   ', newl='')\n",
    "md(\"```xml\\n\" + xmlstr + \"\\n```\\n\")"
   ]
  },
  {
   "cell_type": "markdown",
   "id": "383404df",
   "metadata": {},
   "source": [
    "Obtain the OSDD endpoint for the granule search for this collection by parsing the href attribute in `<link rel=\"search\"\n",
    "type=\"application/opensearchdescription+xml\" >`"
   ]
  },
  {
   "cell_type": "code",
   "execution_count": null,
   "id": "f1ea492e",
   "metadata": {},
   "outputs": [],
   "source": [
    "root = ElementTree.fromstring(response.text)\n",
    "# Extract <link> element with the OSDD for the granule search with Atom response\n",
    "el = root.find('{http://www.w3.org/2005/Atom}entry/{http://www.w3.org/2005/Atom}link[@rel=\"search\"][@type=\"application/opensearchdescription+xml\"]')\n",
    "xmltxt = ElementTree.tostring(el, encoding='unicode', method='xml')\n",
    "md(\"```xml\\n\" + xmltxt + \"\\n```\\n\")"
   ]
  },
  {
   "cell_type": "markdown",
   "id": "76ea41a2",
   "metadata": {},
   "source": [
    "Extract the URL of the OSDD endpoint from the `<link>`."
   ]
  },
  {
   "cell_type": "code",
   "execution_count": null,
   "id": "9b2ab19c",
   "metadata": {},
   "outputs": [],
   "source": [
    "url_osdd = el.attrib['href']\n",
    "el.attrib['href']"
   ]
  },
  {
   "cell_type": "markdown",
   "id": "3d53a56b",
   "metadata": {},
   "source": [
    "**Step 4**  \n",
    ">  From the collection OSDD found in the IDN OpenSearch response, formulate a valid granule search request. How to do this is explained in sections (“CWIC”) and  [\"FedEO\"](chapter-fedeo).  "
   ]
  },
  {
   "cell_type": "markdown",
   "id": "418adb80",
   "metadata": {},
   "source": [
    "In principle, CEOS OpenSearch clients compliant with CEOS OpenSearch Best Practices should\n",
    "not care whether the second step (i.e. Granule search) redirects to CWIC or FedEO as both\n",
    "endpoints provide the same interface which clients should discover by obtaining the OSDD.\n",
    "Search parameters in the URL template which are specific to one of both endpoints (i.e. not defined\n",
    "in the CEOS Best Practice for OpenSearch or belonging to a foreign namespace) can be left empty\n",
    "when preparing the granule search request."
   ]
  },
  {
   "cell_type": "markdown",
   "id": "08becdcf",
   "metadata": {},
   "source": [
    "(section_Available_Collection_Search_Criteria_IDN)=\n",
    "## Available Collection Search Criteria"
   ]
  },
  {
   "cell_type": "markdown",
   "id": "03811d85",
   "metadata": {},
   "source": [
    "CEOS OpenSearch is used as the IDN’s collections search implementation based on\n",
    "the [OpenSearch 1.1 (Draft 5) specification](https://github.com/dewitt/opensearch/blob/master/opensearch-1-1-draft-6.md) and is compliant with the CEOS OpenSearch Best\n",
    "Practices. The IDN OpenSearch API allows clients to formulate OpenSearch compliant queries\n",
    "against the IDN collections and specify the desired search results format as OpenSearch\n",
    "compliant Atom or HTML. The IDN OpenSearch API implements the following search fields for\n",
    "users’ queries:"
   ]
  },
  {
   "cell_type": "markdown",
   "id": "6bb9cebc",
   "metadata": {},
   "source": [
    "**Table of collection search criteria**"
   ]
  },
  {
   "cell_type": "code",
   "execution_count": null,
   "id": "bab4e4b7",
   "metadata": {
    "tags": [
     "remove-input"
    ]
   },
   "outputs": [],
   "source": [
    "%%html\n",
    "\n",
    "<table>\n",
    "\n",
    "<tr><th>HTTP Query<br/>\n",
    "Parameter</th><th align=\"left\">\n",
    "Description\n",
    "</th><th>Value &\n",
    "Cardinality<br/>\n",
    "(M) = mandatory<br/>\n",
    "(O) = optional\n",
    "</th><th>\n",
    "OpenSearch Parameter</th></tr>\n",
    "\n",
    "\n",
    "<tr><td>boundingBox</td><td align=\"left\"> Inventory with a spatial extent overlapping\n",
    "this bounding box\n",
    "</td><td>(O)</td><td> geo:box</td></tr>\n",
    "\n",
    "<tr><td>keyword</td><td align=\"left\"> Inventory with terms expressed by these\n",
    "search terms\n",
    "</td><td>(O)</td><td> os:searchTerms</td></tr>\n",
    "\n",
    "<tr><td>instrument</td><td align=\"left\"> Inventory associated with a satellite\n",
    "instrument expressed by this short name\n",
    "</td><td>(O)</td><td> echo:instrument</td></tr>\n",
    "\n",
    "\n",
    "<tr><td>satellite</td><td align=\"left\"> Inventory associated with a\n",
    "Satellite/platform expressed by this short\n",
    "name\n",
    "</td><td>(O)</td><td> eo:platform</td></tr>\n",
    "\n",
    "<tr><td>geometry</td><td align=\"left\"> Inventory with a spatial extent overlapping\n",
    "this geometry\n",
    "</td><td>(O)</td><td> geo:geometry</td></tr>\n",
    "\n",
    "<tr><td>placeName</td><td align=\"left\"> Inventory with a spatial location described\n",
    "by this name\n",
    "</td><td>(O)</td><td> geo:name</td></tr>\n",
    "\n",
    "<tr><td>startTime</td><td align=\"left\"> Inventory with a temporal extent containing\n",
    "this start time\n",
    "</td><td>(O)</td><td> time:start</td></tr>\n",
    "\n",
    "<tr><td>endTime</td><td align=\"left\"> Inventory with a temporal extent containing\n",
    "this end time\n",
    "</td><td>(O)</td><td> time:end</td></tr>\n",
    "\n",
    "\n",
    "<tr><td>cursor</td><td align=\"left\"> Start page for the search result </td><td>(O)</td><td> os:startPage</td></tr>\n",
    "\n",
    "<tr><td>numberOfResults</td><td align=\"left\"> Maximum number of records in the search\n",
    "result\n",
    "</td><td>(O)</td><td> os:count</td></tr>\n",
    "\n",
    "\n",
    "<tr><td>offset</td><td align=\"left\"> 0 - based offset used to skip the specified\n",
    "number of results in the search result set\n",
    "</td><td>(O)</td><td> os:startIndex</td></tr>\n",
    "\n",
    "<tr><td>uid</td><td align=\"left\"> Inventory associated with this unique ID</td><td>(O)</td><td> geo:uid</td></tr>\n",
    "<tr><td>hasGranules</td><td align=\"left\"> Inventory with granules</td><td>(O)</td><td> echo:hasGranules</td></tr>\n",
    "<tr><td>isCwic</td><td align=\"left\"> Inventory related to CWIC</td><td>(O)</td><td> echo:isCwic</td></tr>\n",
    "<tr><td>isGeoss</td><td align=\"left\"> Inventory related to GEOSS</td><td>(O)</td><td> echo:isGeoss</td></tr>\n",
    "<tr><td>isCeos</td><td align=\"left\"> Inventory related to CEOS</td><td>(O)</td><td></td></tr>\n",
    "<tr><td>isEosdis</td><td align=\"left\"> Inventory related to EOSDIS</td><td>(O)</td><td> echo:isEosdis</td></tr>\n",
    "<tr><td>provider</td><td align=\"left\"> Inventory associated with a provider</td><td>(O)</td><td> echo:provider</td></tr>\n",
    "<tr><td>clientId</td><td align=\"left\"> Client identifier to be used for metrics</td><td>(O)</td><td> cswOpenSearchDoc</td></tr>\n",
    "\n",
    "</table>"
   ]
  },
  {
   "cell_type": "markdown",
   "id": "164a4b1d",
   "metadata": {},
   "source": [
    "Also, client developers are able to query with specific tags: isCeos, isCwic, isGeoss, and isFedEO.\n",
    "Tagging allows arbitrary sets of collections to be grouped under a single namespace value. The\n",
    "sets of collections can be recalled later when searching by tag fields.\n",
    "\n",
    "IDN query examples:\n",
    "\n",
    "- GET the first 10 IDN collections with results in the Atom format:\n",
    "    https://cmr.earthdata.nasa.gov/opensearch/collections.atom?numberOfResults=10&clientId=cswOpenSearchDoc\n",
    "- GET the first 10 IDN collections containing the GCMD instrument keyword MODIS\n",
    "    with results in the Atom output format:\n",
    "    https://cmr.earthdata.nasa.gov/opensearch/collections.atom?instrument=MODIS&numberOfResults=10&clientId=cswOpenSearchDoc\n",
    "- GET the first 10 CWIC IDN collections containing the GCMD instrument keyword\n",
    "    MODIS with results in the HTML format:\n",
    "    https://cmr.earthdata.nasa.gov/opensearch/collections?instrument=MODIS&isCwic=true&numberOfResults=10&clientId=cswOpenSearchDoc\n",
    "\n"
   ]
  }
 ],
 "metadata": {
  "description": "This notebook explains the use of the OpenSearch interface with Atom response format to access collection and granule metadata according to the two-step mechanism recommended by CEOS Best Practices. It can be used with the ESA EO-CAT and CEOS FedEO catalogue endpoints.",
  "kernelspec": {
   "display_name": "Python 3",
   "language": "python",
   "name": "python3"
  },
  "language_info": {
   "codemirror_mode": {
    "name": "ipython",
    "version": 3
   },
   "file_extension": ".py",
   "mimetype": "text/x-python",
   "name": "python",
   "nbconvert_exporter": "python",
   "pygments_lexer": "ipython3",
   "version": "3.7.6"
  },
  "potentialAction": [
   {
    "@type": "InteractAction",
    "name": "Launch Binder",
    "target": "https://mybinder.org/v2/gh/eovoc/eo-books/main?urlpath=tree/docs/opensearch.ipynb"
   },
   {
    "@type": "InteractAction",
    "name": "Open in Google Colab",
    "target": "https://colab.research.google.com/github/eovoc/eo-books/blob/main/docs/opensearch.ipynb"
   }
  ],
  "tags": {
   "tags": [
    "EOCAT",
    "FedEO",
    "OpenSearch",
    "Data Access/Retrieval",
    "Metadata Handling",
    "Service Discovery",
    "Data Discovery",
    "CDA",
    "CEOS",
    "OGC",
    "ESA"
   ]
  },
  "title": "OpenSearch with Atom"
 },
 "nbformat": 4,
 "nbformat_minor": 5
}
